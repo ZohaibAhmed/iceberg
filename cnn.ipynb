{
 "cells": [
  {
   "cell_type": "code",
   "execution_count": 1,
   "metadata": {},
   "outputs": [],
   "source": [
    "%matplotlib inline\n",
    "import pandas as pd\n",
    "import numpy as np\n",
    "from math import sqrt"
   ]
  },
  {
   "cell_type": "code",
   "execution_count": 2,
   "metadata": {},
   "outputs": [],
   "source": [
    "train = pd.read_json('./iceberg/train/processed/train.json')"
   ]
  },
  {
   "cell_type": "code",
   "execution_count": 3,
   "metadata": {},
   "outputs": [],
   "source": [
    "test = pd.read_json('./iceberg/test/processed/test.json')"
   ]
  },
  {
   "cell_type": "code",
   "execution_count": 4,
   "metadata": {},
   "outputs": [],
   "source": [
    "total_size = len(train.loc[0]['band_1'])"
   ]
  },
  {
   "cell_type": "code",
   "execution_count": 5,
   "metadata": {},
   "outputs": [],
   "source": [
    "dim = sqrt(total_size)"
   ]
  },
  {
   "cell_type": "code",
   "execution_count": 6,
   "metadata": {},
   "outputs": [
    {
     "data": {
      "text/plain": [
       "75.0"
      ]
     },
     "execution_count": 6,
     "metadata": {},
     "output_type": "execute_result"
    }
   ],
   "source": [
    "dim"
   ]
  },
  {
   "cell_type": "code",
   "execution_count": 7,
   "metadata": {},
   "outputs": [],
   "source": [
    "x_band1 = np.array([np.array(band).astype(np.float32).reshape(75, 75) for band in train[\"band_1\"]])"
   ]
  },
  {
   "cell_type": "code",
   "execution_count": 8,
   "metadata": {
    "scrolled": true
   },
   "outputs": [
    {
     "data": {
      "text/plain": [
       "array([[[-27.87836075, -27.15415955, -28.66861534, ..., -25.57348251,\n",
       "         -26.48867416, -30.50701332],\n",
       "        [-28.66852951, -27.8784008 , -27.50877571, ..., -26.4886322 ,\n",
       "         -28.67156219, -31.5941658 ],\n",
       "        [-28.66852951, -27.15415955, -25.86504173, ..., -27.1571064 ,\n",
       "         -27.88139343, -32.83712387],\n",
       "        ..., \n",
       "        [-29.09290504, -28.66916275, -30.50461197, ..., -30.0110054 ,\n",
       "         -25.8685379 , -26.48926544],\n",
       "        [-31.59168243, -27.87899208, -28.66920471, ..., -27.51227188,\n",
       "         -26.81707382, -27.51235771],\n",
       "        [-29.09290504, -26.81408119, -27.15479088, ..., -26.81703186,\n",
       "         -27.8819828 , -28.26812744]],\n",
       "\n",
       "       [[-12.24237537, -14.92030525, -14.92036343, ..., -10.63340187,\n",
       "         -11.95605373, -14.37902641],\n",
       "        [-13.04662609, -14.07784081, -12.72854233, ..., -11.24318886,\n",
       "         -11.78629112, -14.37902641],\n",
       "        [-15.24811363, -14.07789993, -12.60451412, ..., -15.68016243,\n",
       "         -13.51685047, -14.45488739],\n",
       "        ..., \n",
       "        [-15.58959579, -16.89968491, -17.52791214, ..., -11.78711033,\n",
       "         -10.88323402, -12.3068037 ],\n",
       "        [-14.76180077, -15.50328636, -15.33302689, ...,  -9.79305172,\n",
       "          -8.06226254,  -9.88271523],\n",
       "        [-13.17817688, -15.50328636, -14.37581444, ..., -11.08755875,\n",
       "          -8.24668407,  -8.66680145]],\n",
       "\n",
       "       [[-24.60367584, -24.60371399, -24.8710289 , ..., -20.99723434,\n",
       "         -22.51168442, -22.93550873],\n",
       "        [-19.26735878, -21.90974236, -21.34920502, ..., -20.82523155,\n",
       "         -23.61263657, -22.93550873],\n",
       "        [-20.16670227, -21.71883583, -19.85653305, ..., -21.35181046,\n",
       "         -20.82526779, -22.93550873],\n",
       "        ..., \n",
       "        [-23.15319061, -25.43209457, -25.43213272, ..., -22.51214027,\n",
       "         -23.61312866, -27.0184021 ],\n",
       "        [-27.01568413, -26.03136063, -25.14732361, ..., -22.10810852,\n",
       "         -21.91295242, -28.95664024],\n",
       "        [-22.1054287 , -22.50953484, -24.34498024, ..., -21.91291428,\n",
       "         -22.51221466, -25.15000534]],\n",
       "\n",
       "       ..., \n",
       "       [[-18.14189529, -18.1418438 , -19.01737022, ..., -18.50269699,\n",
       "         -18.62762451, -15.75912952],\n",
       "        [-15.85388088, -17.02673912, -21.96628952, ..., -18.50269699,\n",
       "         -17.23490524, -15.94199657],\n",
       "        [-14.65987587, -12.93132019, -13.4701004 , ..., -17.67489624,\n",
       "         -19.41784668, -17.45206451],\n",
       "        ..., \n",
       "        [-16.51932526, -20.44516563, -21.96691704, ..., -19.69863319,\n",
       "         -17.56328583, -17.23542595],\n",
       "        [-16.13322258, -19.01804733, -20.60161972, ..., -15.94272518,\n",
       "         -20.4414711 , -19.41836739],\n",
       "        [-17.34717941, -15.94636917, -15.76344967, ..., -15.85081005,\n",
       "         -17.23552895, -18.3800106 ]],\n",
       "\n",
       "       [[-22.45563316, -25.79466057, -26.95456696, ..., -21.41664696,\n",
       "         -21.09498024, -24.53826904],\n",
       "        [-21.24971581, -23.64198303, -22.83347893, ..., -20.63367462,\n",
       "         -21.09498024, -23.64662552],\n",
       "        [-22.83333969, -23.64198303, -22.83347893, ..., -19.3807373 ,\n",
       "         -20.05447006, -20.93861008],\n",
       "        ..., \n",
       "        [-19.12233734, -20.33636475, -22.27463531, ..., -18.63744354,\n",
       "         -18.63751221, -18.28776741],\n",
       "        [-21.4138031 , -20.33636475, -21.57939148, ..., -22.0999794 ,\n",
       "         -19.3824749 , -17.5224781 ],\n",
       "        [-18.28304863, -22.45743179, -20.63089752, ..., -19.64570236,\n",
       "         -19.51316071, -19.12712669]],\n",
       "\n",
       "       [[-19.90919113, -20.67840576, -20.20883369, ..., -19.48169136,\n",
       "         -18.67939568, -17.82839966],\n",
       "        [-20.36252022, -19.47849464, -21.34692955, ..., -20.2120285 ,\n",
       "         -21.35017395, -18.55264282],\n",
       "        [-20.05772018, -19.47849464, -19.909338  , ..., -20.52231979,\n",
       "         -20.52231979, -17.37708282],\n",
       "        ..., \n",
       "        [-23.2862587 , -22.07235146, -20.67968178, ..., -20.52350235,\n",
       "         -21.1794014 , -19.20725632],\n",
       "        [-22.65813828, -21.88560104, -21.88560104, ..., -18.93987846,\n",
       "         -18.68062782, -19.20725632],\n",
       "        [-20.52025223, -22.07239914, -20.84208679, ..., -17.4888649 ,\n",
       "         -17.94617081, -17.26905632]]], dtype=float32)"
      ]
     },
     "execution_count": 8,
     "metadata": {},
     "output_type": "execute_result"
    }
   ],
   "source": [
    "x_band1"
   ]
  },
  {
   "cell_type": "code",
   "execution_count": 9,
   "metadata": {},
   "outputs": [],
   "source": [
    "x_band2 = np.array([np.array(band).astype(np.float32).reshape(75, 75) for band in train[\"band_2\"]])"
   ]
  },
  {
   "cell_type": "code",
   "execution_count": 10,
   "metadata": {},
   "outputs": [],
   "source": [
    "X_train = np.concatenate([x_band1[:, :, :, np.newaxis], x_band2[:, :, :, np.newaxis]], axis=-1)\n",
    "y_train = np.array(train['is_iceberg'])"
   ]
  },
  {
   "cell_type": "code",
   "execution_count": 11,
   "metadata": {},
   "outputs": [
    {
     "data": {
      "text/plain": [
       "(1604, 75, 75, 2)"
      ]
     },
     "execution_count": 11,
     "metadata": {},
     "output_type": "execute_result"
    }
   ],
   "source": [
    "X_train.shape"
   ]
  },
  {
   "cell_type": "code",
   "execution_count": 12,
   "metadata": {},
   "outputs": [],
   "source": [
    "# Test Data\n",
    "x_band1 = np.array([np.array(band).astype(np.float32).reshape(75, 75) for band in test[\"band_1\"]])\n",
    "x_band2 = np.array([np.array(band).astype(np.float32).reshape(75, 75) for band in test[\"band_2\"]])\n",
    "X_test = np.concatenate([x_band1[:, :, :, np.newaxis], x_band2[:, :, :, np.newaxis]], axis=-1)"
   ]
  },
  {
   "cell_type": "code",
   "execution_count": 13,
   "metadata": {},
   "outputs": [
    {
     "data": {
      "text/plain": [
       "(8424, 75, 75, 2)"
      ]
     },
     "execution_count": 13,
     "metadata": {},
     "output_type": "execute_result"
    }
   ],
   "source": [
    "X_test.shape"
   ]
  },
  {
   "cell_type": "code",
   "execution_count": 14,
   "metadata": {},
   "outputs": [
    {
     "name": "stderr",
     "output_type": "stream",
     "text": [
      "Using TensorFlow backend.\n"
     ]
    }
   ],
   "source": [
    "import keras\n",
    "from keras.models import Sequential\n",
    "from keras.layers import Convolution2D, GlobalAveragePooling2D, Dense, Dropout"
   ]
  },
  {
   "cell_type": "code",
   "execution_count": 15,
   "metadata": {},
   "outputs": [
    {
     "name": "stdout",
     "output_type": "stream",
     "text": [
      "_________________________________________________________________\n",
      "Layer (type)                 Output Shape              Param #   \n",
      "=================================================================\n",
      "conv2d_1 (Conv2D)            (None, 73, 73, 32)        608       \n",
      "_________________________________________________________________\n",
      "conv2d_2 (Conv2D)            (None, 71, 71, 64)        18496     \n",
      "_________________________________________________________________\n",
      "global_average_pooling2d_1 ( (None, 64)                0         \n",
      "_________________________________________________________________\n",
      "dropout_1 (Dropout)          (None, 64)                0         \n",
      "_________________________________________________________________\n",
      "dense_1 (Dense)              (None, 1)                 65        \n",
      "=================================================================\n",
      "Total params: 19,169\n",
      "Trainable params: 19,169\n",
      "Non-trainable params: 0\n",
      "_________________________________________________________________\n"
     ]
    }
   ],
   "source": [
    "model = Sequential()\n",
    "model.add(Convolution2D(32, 3, activation=\"relu\", input_shape=(75, 75, 2)))\n",
    "model.add(Convolution2D(64, 3, activation=\"relu\", input_shape=(75, 75, 2)))\n",
    "model.add(GlobalAveragePooling2D())\n",
    "model.add(Dropout(0.3))\n",
    "model.add(Dense(1, activation=\"sigmoid\"))\n",
    "model.compile(\"adam\", \"binary_crossentropy\", metrics=[\"accuracy\"])\n",
    "model.summary()"
   ]
  },
  {
   "cell_type": "code",
   "execution_count": 18,
   "metadata": {},
   "outputs": [
    {
     "name": "stdout",
     "output_type": "stream",
     "text": [
      "Train on 1283 samples, validate on 321 samples\n",
      "Epoch 1/10\n",
      "1283/1283 [==============================] - 15s 12ms/step - loss: 0.5745 - acc: 0.6758 - val_loss: 0.6355 - val_acc: 0.5140\n",
      "Epoch 2/10\n",
      "1283/1283 [==============================] - 17s 13ms/step - loss: 0.5714 - acc: 0.6734 - val_loss: 0.6071 - val_acc: 0.5327\n",
      "Epoch 3/10\n",
      "1283/1283 [==============================] - 17s 13ms/step - loss: 0.5583 - acc: 0.6921 - val_loss: 0.6417 - val_acc: 0.5327\n",
      "Epoch 4/10\n",
      "1283/1283 [==============================] - 17s 13ms/step - loss: 0.5584 - acc: 0.7054 - val_loss: 0.6411 - val_acc: 0.5389\n",
      "Epoch 5/10\n",
      "1283/1283 [==============================] - 17s 13ms/step - loss: 0.5425 - acc: 0.7124 - val_loss: 0.6210 - val_acc: 0.5358\n",
      "Epoch 6/10\n",
      "1283/1283 [==============================] - 17s 13ms/step - loss: 0.5407 - acc: 0.7030 - val_loss: 0.6224 - val_acc: 0.5483\n",
      "Epoch 7/10\n",
      "1283/1283 [==============================] - 17s 13ms/step - loss: 0.5469 - acc: 0.7085 - val_loss: 0.6062 - val_acc: 0.5421\n",
      "Epoch 8/10\n",
      "1283/1283 [==============================] - 17s 13ms/step - loss: 0.5403 - acc: 0.7194 - val_loss: 0.6101 - val_acc: 0.5514\n",
      "Epoch 9/10\n",
      "1283/1283 [==============================] - 17s 13ms/step - loss: 0.5284 - acc: 0.7288 - val_loss: 0.6080 - val_acc: 0.5670\n",
      "Epoch 10/10\n",
      "1283/1283 [==============================] - 17s 13ms/step - loss: 0.5233 - acc: 0.7311 - val_loss: 0.5824 - val_acc: 0.5857\n"
     ]
    },
    {
     "data": {
      "text/plain": [
       "<keras.callbacks.History at 0x7f3cde5130d0>"
      ]
     },
     "execution_count": 18,
     "metadata": {},
     "output_type": "execute_result"
    }
   ],
   "source": [
    "model.fit(X_train, y_train, validation_split=0.2, epochs=10)"
   ]
  },
  {
   "cell_type": "code",
   "execution_count": 19,
   "metadata": {},
   "outputs": [
    {
     "name": "stdout",
     "output_type": "stream",
     "text": [
      "8424/8424 [==============================] - 27s 3ms/step\n"
     ]
    }
   ],
   "source": [
    "prediction = model.predict(X_test, verbose=1)"
   ]
  },
  {
   "cell_type": "code",
   "execution_count": 21,
   "metadata": {},
   "outputs": [],
   "source": [
    "submission = pd.DataFrame({'id': test[\"id\"], 'is_iceberg': prediction.flatten()})\n",
    "submission.to_csv(\"./simple.csv\", index=False)"
   ]
  },
  {
   "cell_type": "code",
   "execution_count": null,
   "metadata": {},
   "outputs": [],
   "source": []
  }
 ],
 "metadata": {
  "kernelspec": {
   "display_name": "Python 2",
   "language": "python",
   "name": "python2"
  },
  "language_info": {
   "codemirror_mode": {
    "name": "ipython",
    "version": 2
   },
   "file_extension": ".py",
   "mimetype": "text/x-python",
   "name": "python",
   "nbconvert_exporter": "python",
   "pygments_lexer": "ipython2",
   "version": "2.7.6"
  }
 },
 "nbformat": 4,
 "nbformat_minor": 2
}
