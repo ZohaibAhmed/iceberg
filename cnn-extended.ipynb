{
 "cells": [
  {
   "cell_type": "code",
   "execution_count": 1,
   "metadata": {},
   "outputs": [],
   "source": [
    "%matplotlib inline\n",
    "import pandas as pd\n",
    "import numpy as np\n",
    "from math import sqrt\n"
   ]
  },
  {
   "cell_type": "code",
   "execution_count": 2,
   "metadata": {},
   "outputs": [],
   "source": [
    "train = pd.read_json('./iceberg/train/processed/train.json')"
   ]
  },
  {
   "cell_type": "code",
   "execution_count": 3,
   "metadata": {},
   "outputs": [],
   "source": [
    "test = pd.read_json('./iceberg/test/processed/test.json')"
   ]
  },
  {
   "cell_type": "code",
   "execution_count": 4,
   "metadata": {},
   "outputs": [],
   "source": [
    "total_size = len(train.loc[0]['band_1'])"
   ]
  },
  {
   "cell_type": "code",
   "execution_count": 5,
   "metadata": {},
   "outputs": [],
   "source": [
    "dim = sqrt(total_size)"
   ]
  },
  {
   "cell_type": "code",
   "execution_count": 12,
   "metadata": {},
   "outputs": [
    {
     "data": {
      "text/plain": [
       "75.0"
      ]
     },
     "execution_count": 12,
     "metadata": {},
     "output_type": "execute_result"
    }
   ],
   "source": [
    "dim"
   ]
  },
  {
   "cell_type": "code",
   "execution_count": 13,
   "metadata": {},
   "outputs": [],
   "source": [
    "x_band1 = np.array([np.array(band).astype(np.float32).reshape(75, 75) for band in train[\"band_1\"]])"
   ]
  },
  {
   "cell_type": "code",
   "execution_count": 10,
   "metadata": {
    "scrolled": true
   },
   "outputs": [
    {
     "data": {
      "text/plain": [
       "array([[[-27.87836075, -27.15415955, -28.66861534, ..., -25.57348251,\n",
       "         -26.48867416, -30.50701332],\n",
       "        [-28.66852951, -27.8784008 , -27.50877571, ..., -26.4886322 ,\n",
       "         -28.67156219, -31.5941658 ],\n",
       "        [-28.66852951, -27.15415955, -25.86504173, ..., -27.1571064 ,\n",
       "         -27.88139343, -32.83712387],\n",
       "        ..., \n",
       "        [-29.09290504, -28.66916275, -30.50461197, ..., -30.0110054 ,\n",
       "         -25.8685379 , -26.48926544],\n",
       "        [-31.59168243, -27.87899208, -28.66920471, ..., -27.51227188,\n",
       "         -26.81707382, -27.51235771],\n",
       "        [-29.09290504, -26.81408119, -27.15479088, ..., -26.81703186,\n",
       "         -27.8819828 , -28.26812744]],\n",
       "\n",
       "       [[-12.24237537, -14.92030525, -14.92036343, ..., -10.63340187,\n",
       "         -11.95605373, -14.37902641],\n",
       "        [-13.04662609, -14.07784081, -12.72854233, ..., -11.24318886,\n",
       "         -11.78629112, -14.37902641],\n",
       "        [-15.24811363, -14.07789993, -12.60451412, ..., -15.68016243,\n",
       "         -13.51685047, -14.45488739],\n",
       "        ..., \n",
       "        [-15.58959579, -16.89968491, -17.52791214, ..., -11.78711033,\n",
       "         -10.88323402, -12.3068037 ],\n",
       "        [-14.76180077, -15.50328636, -15.33302689, ...,  -9.79305172,\n",
       "          -8.06226254,  -9.88271523],\n",
       "        [-13.17817688, -15.50328636, -14.37581444, ..., -11.08755875,\n",
       "          -8.24668407,  -8.66680145]],\n",
       "\n",
       "       [[-24.60367584, -24.60371399, -24.8710289 , ..., -20.99723434,\n",
       "         -22.51168442, -22.93550873],\n",
       "        [-19.26735878, -21.90974236, -21.34920502, ..., -20.82523155,\n",
       "         -23.61263657, -22.93550873],\n",
       "        [-20.16670227, -21.71883583, -19.85653305, ..., -21.35181046,\n",
       "         -20.82526779, -22.93550873],\n",
       "        ..., \n",
       "        [-23.15319061, -25.43209457, -25.43213272, ..., -22.51214027,\n",
       "         -23.61312866, -27.0184021 ],\n",
       "        [-27.01568413, -26.03136063, -25.14732361, ..., -22.10810852,\n",
       "         -21.91295242, -28.95664024],\n",
       "        [-22.1054287 , -22.50953484, -24.34498024, ..., -21.91291428,\n",
       "         -22.51221466, -25.15000534]],\n",
       "\n",
       "       ..., \n",
       "       [[-18.14189529, -18.1418438 , -19.01737022, ..., -18.50269699,\n",
       "         -18.62762451, -15.75912952],\n",
       "        [-15.85388088, -17.02673912, -21.96628952, ..., -18.50269699,\n",
       "         -17.23490524, -15.94199657],\n",
       "        [-14.65987587, -12.93132019, -13.4701004 , ..., -17.67489624,\n",
       "         -19.41784668, -17.45206451],\n",
       "        ..., \n",
       "        [-16.51932526, -20.44516563, -21.96691704, ..., -19.69863319,\n",
       "         -17.56328583, -17.23542595],\n",
       "        [-16.13322258, -19.01804733, -20.60161972, ..., -15.94272518,\n",
       "         -20.4414711 , -19.41836739],\n",
       "        [-17.34717941, -15.94636917, -15.76344967, ..., -15.85081005,\n",
       "         -17.23552895, -18.3800106 ]],\n",
       "\n",
       "       [[-22.45563316, -25.79466057, -26.95456696, ..., -21.41664696,\n",
       "         -21.09498024, -24.53826904],\n",
       "        [-21.24971581, -23.64198303, -22.83347893, ..., -20.63367462,\n",
       "         -21.09498024, -23.64662552],\n",
       "        [-22.83333969, -23.64198303, -22.83347893, ..., -19.3807373 ,\n",
       "         -20.05447006, -20.93861008],\n",
       "        ..., \n",
       "        [-19.12233734, -20.33636475, -22.27463531, ..., -18.63744354,\n",
       "         -18.63751221, -18.28776741],\n",
       "        [-21.4138031 , -20.33636475, -21.57939148, ..., -22.0999794 ,\n",
       "         -19.3824749 , -17.5224781 ],\n",
       "        [-18.28304863, -22.45743179, -20.63089752, ..., -19.64570236,\n",
       "         -19.51316071, -19.12712669]],\n",
       "\n",
       "       [[-19.90919113, -20.67840576, -20.20883369, ..., -19.48169136,\n",
       "         -18.67939568, -17.82839966],\n",
       "        [-20.36252022, -19.47849464, -21.34692955, ..., -20.2120285 ,\n",
       "         -21.35017395, -18.55264282],\n",
       "        [-20.05772018, -19.47849464, -19.909338  , ..., -20.52231979,\n",
       "         -20.52231979, -17.37708282],\n",
       "        ..., \n",
       "        [-23.2862587 , -22.07235146, -20.67968178, ..., -20.52350235,\n",
       "         -21.1794014 , -19.20725632],\n",
       "        [-22.65813828, -21.88560104, -21.88560104, ..., -18.93987846,\n",
       "         -18.68062782, -19.20725632],\n",
       "        [-20.52025223, -22.07239914, -20.84208679, ..., -17.4888649 ,\n",
       "         -17.94617081, -17.26905632]]], dtype=float32)"
      ]
     },
     "execution_count": 10,
     "metadata": {},
     "output_type": "execute_result"
    }
   ],
   "source": [
    "x_band1"
   ]
  },
  {
   "cell_type": "code",
   "execution_count": 14,
   "metadata": {},
   "outputs": [],
   "source": [
    "x_band2 = np.array([np.array(band).astype(np.float32).reshape(75, 75) for band in train[\"band_2\"]])"
   ]
  },
  {
   "cell_type": "code",
   "execution_count": 15,
   "metadata": {},
   "outputs": [],
   "source": [
    "X_train = np.concatenate([x_band1[:, :, :, np.newaxis], x_band2[:, :, :, np.newaxis]], axis=-1)\n",
    "y_train = np.array(train['is_iceberg'])"
   ]
  },
  {
   "cell_type": "code",
   "execution_count": 16,
   "metadata": {},
   "outputs": [
    {
     "data": {
      "text/plain": [
       "(1604, 75, 75, 2)"
      ]
     },
     "execution_count": 16,
     "metadata": {},
     "output_type": "execute_result"
    }
   ],
   "source": [
    "X_train.shape"
   ]
  },
  {
   "cell_type": "code",
   "execution_count": 17,
   "metadata": {},
   "outputs": [],
   "source": [
    "# Test Data\n",
    "x_band1 = np.array([np.array(band).astype(np.float32).reshape(75, 75) for band in test[\"band_1\"]])\n",
    "x_band2 = np.array([np.array(band).astype(np.float32).reshape(75, 75) for band in test[\"band_2\"]])\n",
    "X_test = np.concatenate([x_band1[:, :, :, np.newaxis], x_band2[:, :, :, np.newaxis]], axis=-1)"
   ]
  },
  {
   "cell_type": "code",
   "execution_count": 18,
   "metadata": {},
   "outputs": [
    {
     "data": {
      "text/plain": [
       "(8424, 75, 75, 2)"
      ]
     },
     "execution_count": 18,
     "metadata": {},
     "output_type": "execute_result"
    }
   ],
   "source": [
    "X_test.shape"
   ]
  },
  {
   "cell_type": "code",
   "execution_count": 19,
   "metadata": {},
   "outputs": [
    {
     "name": "stderr",
     "output_type": "stream",
     "text": [
      "Using TensorFlow backend.\n"
     ]
    }
   ],
   "source": [
    "import keras\n",
    "from keras.models import Sequential\n",
    "from keras.preprocessing.image import ImageDataGenerator\n",
    "from keras.layers.normalization import BatchNormalization\n",
    "from keras.layers.merge import Concatenate\n",
    "from keras.models import Model\n",
    "from keras import initializers\n",
    "from keras.optimizers import Adam\n",
    "from keras.callbacks import ModelCheckpoint, Callback, EarlyStopping\n",
    "from keras.layers import Conv2D, MaxPooling2D, Dense, Dropout, Input, Flatten, Activation, GlobalMaxPooling2D"
   ]
  },
  {
   "cell_type": "code",
   "execution_count": 28,
   "metadata": {},
   "outputs": [
    {
     "name": "stdout",
     "output_type": "stream",
     "text": [
      "_________________________________________________________________\n",
      "Layer (type)                 Output Shape              Param #   \n",
      "=================================================================\n",
      "conv2d_14 (Conv2D)           (None, 73, 73, 64)        1216      \n",
      "_________________________________________________________________\n",
      "max_pooling2d_13 (MaxPooling (None, 36, 36, 64)        0         \n",
      "_________________________________________________________________\n",
      "dropout_17 (Dropout)         (None, 36, 36, 64)        0         \n",
      "_________________________________________________________________\n",
      "conv2d_15 (Conv2D)           (None, 34, 34, 128)       73856     \n",
      "_________________________________________________________________\n",
      "max_pooling2d_14 (MaxPooling (None, 17, 17, 128)       0         \n",
      "_________________________________________________________________\n",
      "dropout_18 (Dropout)         (None, 17, 17, 128)       0         \n",
      "_________________________________________________________________\n",
      "conv2d_16 (Conv2D)           (None, 15, 15, 128)       147584    \n",
      "_________________________________________________________________\n",
      "max_pooling2d_15 (MaxPooling (None, 7, 7, 128)         0         \n",
      "_________________________________________________________________\n",
      "dropout_19 (Dropout)         (None, 7, 7, 128)         0         \n",
      "_________________________________________________________________\n",
      "conv2d_17 (Conv2D)           (None, 5, 5, 64)          73792     \n",
      "_________________________________________________________________\n",
      "max_pooling2d_16 (MaxPooling (None, 2, 2, 64)          0         \n",
      "_________________________________________________________________\n",
      "dropout_20 (Dropout)         (None, 2, 2, 64)          0         \n",
      "_________________________________________________________________\n",
      "flatten_3 (Flatten)          (None, 256)               0         \n",
      "_________________________________________________________________\n",
      "dense_7 (Dense)              (None, 512)               131584    \n",
      "_________________________________________________________________\n",
      "activation_5 (Activation)    (None, 512)               0         \n",
      "_________________________________________________________________\n",
      "dropout_21 (Dropout)         (None, 512)               0         \n",
      "_________________________________________________________________\n",
      "dense_8 (Dense)              (None, 256)               131328    \n",
      "_________________________________________________________________\n",
      "activation_6 (Activation)    (None, 256)               0         \n",
      "_________________________________________________________________\n",
      "dropout_22 (Dropout)         (None, 256)               0         \n",
      "_________________________________________________________________\n",
      "dense_9 (Dense)              (None, 1)                 257       \n",
      "=================================================================\n",
      "Total params: 559,617\n",
      "Trainable params: 559,617\n",
      "Non-trainable params: 0\n",
      "_________________________________________________________________\n"
     ]
    }
   ],
   "source": [
    "model = Sequential()\n",
    "\n",
    "model.add(Conv2D(64, 3, activation='relu', input_shape=(75, 75, 2)))\n",
    "model.add(MaxPooling2D(pool_size=(3, 3), strides=(2, 2)))\n",
    "model.add(Dropout(0.2))\n",
    "\n",
    "model.add(Conv2D(128, 3, activation='relu'))\n",
    "model.add(MaxPooling2D(pool_size=(2, 2), strides=(2, 2)))\n",
    "model.add(Dropout(0.2))\n",
    "\n",
    "model.add(Conv2D(128, 3, activation='relu'))\n",
    "model.add(MaxPooling2D(pool_size=(2, 2), strides=(2, 2)))\n",
    "model.add(Dropout(0.2))\n",
    "\n",
    "model.add(Conv2D(64, 3, activation='relu'))\n",
    "model.add(MaxPooling2D(pool_size=(2, 2), strides=(2, 2)))\n",
    "model.add(Dropout(0.2))\n",
    "\n",
    "model.add(Flatten())\n",
    "\n",
    "model.add(Dense(512))\n",
    "model.add(Activation('relu'))\n",
    "model.add(Dropout(0.2))\n",
    "\n",
    "model.add(Dense(256))\n",
    "model.add(Activation('relu'))\n",
    "model.add(Dropout(0.2))\n",
    "\n",
    "\n",
    "model.add(Dense(1, activation=\"sigmoid\"))\n",
    "opt = Adam(lr=0.001, beta_1=0.9, beta_2=0.999, epsilon=1e-08, decay=0.0)\n",
    "model.compile(loss=\"binary_crossentropy\", optimizer=opt, metrics=[\"accuracy\"])\n",
    "model.summary()"
   ]
  },
  {
   "cell_type": "code",
   "execution_count": 29,
   "metadata": {},
   "outputs": [
    {
     "name": "stdout",
     "output_type": "stream",
     "text": [
      "Train on 1283 samples, validate on 321 samples\n",
      "Epoch 1/20\n",
      "1283/1283 [==============================] - 18s 14ms/step - loss: 0.9358 - acc: 0.5292 - val_loss: 0.6328 - val_acc: 0.5140\n",
      "Epoch 2/20\n",
      "1283/1283 [==============================] - 19s 15ms/step - loss: 0.5678 - acc: 0.6797 - val_loss: 0.6364 - val_acc: 0.5421\n",
      "Epoch 3/20\n",
      "1283/1283 [==============================] - 19s 15ms/step - loss: 0.5221 - acc: 0.7389 - val_loss: 0.5285 - val_acc: 0.6604\n",
      "Epoch 4/20\n",
      "1283/1283 [==============================] - 19s 15ms/step - loss: 0.4464 - acc: 0.7989 - val_loss: 0.5072 - val_acc: 0.7072\n",
      "Epoch 5/20\n",
      "1283/1283 [==============================] - 19s 15ms/step - loss: 0.4256 - acc: 0.8028 - val_loss: 0.4108 - val_acc: 0.7944\n",
      "Epoch 6/20\n",
      "1283/1283 [==============================] - 19s 15ms/step - loss: 0.4307 - acc: 0.8051 - val_loss: 0.4447 - val_acc: 0.7570\n",
      "Epoch 7/20\n",
      "1283/1283 [==============================] - 19s 15ms/step - loss: 0.3932 - acc: 0.8270 - val_loss: 0.4263 - val_acc: 0.7726\n",
      "Epoch 8/20\n",
      "1283/1283 [==============================] - 19s 15ms/step - loss: 0.3560 - acc: 0.8402 - val_loss: 0.3714 - val_acc: 0.8100\n",
      "Epoch 9/20\n",
      "1283/1283 [==============================] - 19s 15ms/step - loss: 0.3820 - acc: 0.8262 - val_loss: 0.4323 - val_acc: 0.7695\n",
      "Epoch 10/20\n",
      "1283/1283 [==============================] - 19s 15ms/step - loss: 0.3744 - acc: 0.8270 - val_loss: 0.4005 - val_acc: 0.7726\n",
      "Epoch 11/20\n",
      "1283/1283 [==============================] - 19s 15ms/step - loss: 0.3597 - acc: 0.8355 - val_loss: 0.4173 - val_acc: 0.7944\n",
      "Epoch 12/20\n",
      "1283/1283 [==============================] - 19s 15ms/step - loss: 0.3648 - acc: 0.8316 - val_loss: 0.3829 - val_acc: 0.8131\n",
      "Epoch 13/20\n",
      "1283/1283 [==============================] - 19s 15ms/step - loss: 0.3623 - acc: 0.8387 - val_loss: 0.3493 - val_acc: 0.8193\n",
      "Epoch 14/20\n",
      "1283/1283 [==============================] - 19s 15ms/step - loss: 0.3073 - acc: 0.8714 - val_loss: 0.2956 - val_acc: 0.8785\n",
      "Epoch 15/20\n",
      "1283/1283 [==============================] - 19s 15ms/step - loss: 0.3193 - acc: 0.8566 - val_loss: 0.3194 - val_acc: 0.8442\n",
      "Epoch 16/20\n",
      "1283/1283 [==============================] - 19s 15ms/step - loss: 0.3137 - acc: 0.8519 - val_loss: 0.2863 - val_acc: 0.8692\n",
      "Epoch 17/20\n",
      "1283/1283 [==============================] - 19s 15ms/step - loss: 0.3074 - acc: 0.8620 - val_loss: 0.3186 - val_acc: 0.8442\n",
      "Epoch 18/20\n",
      "1283/1283 [==============================] - 19s 15ms/step - loss: 0.2690 - acc: 0.8807 - val_loss: 0.2688 - val_acc: 0.8941\n",
      "Epoch 19/20\n",
      "1283/1283 [==============================] - 19s 15ms/step - loss: 0.2481 - acc: 0.8924 - val_loss: 0.3131 - val_acc: 0.8692\n",
      "Epoch 20/20\n",
      "1283/1283 [==============================] - 19s 15ms/step - loss: 0.2778 - acc: 0.8706 - val_loss: 0.2946 - val_acc: 0.8162\n"
     ]
    },
    {
     "data": {
      "text/plain": [
       "<keras.callbacks.History at 0x7f2b4565ed90>"
      ]
     },
     "execution_count": 29,
     "metadata": {},
     "output_type": "execute_result"
    }
   ],
   "source": [
    "model.fit(X_train, y_train, validation_split=0.2, epochs=20)"
   ]
  },
  {
   "cell_type": "code",
   "execution_count": 22,
   "metadata": {},
   "outputs": [
    {
     "name": "stdout",
     "output_type": "stream",
     "text": [
      "8424/8424 [==============================] - 35s 4ms/step\n"
     ]
    }
   ],
   "source": [
    "prediction = model.predict(X_test, verbose=1)"
   ]
  },
  {
   "cell_type": "code",
   "execution_count": 23,
   "metadata": {},
   "outputs": [],
   "source": [
    "submission = pd.DataFrame({'id': test[\"id\"], 'is_iceberg': prediction.flatten()})\n",
    "submission.to_csv(\"./better.csv\", index=False)"
   ]
  },
  {
   "cell_type": "code",
   "execution_count": 25,
   "metadata": {},
   "outputs": [
    {
     "data": {
      "text/plain": [
       "array([[-15.86325073, -15.20107746, -17.88773537, ..., -14.14651394,\n",
       "        -12.89877796, -14.00627327],\n",
       "       [-16.39520645, -15.20107746, -16.3950634 , ..., -15.43849754,\n",
       "        -14.00634575, -13.73268032],\n",
       "       [-15.44356155, -14.36598206, -17.05988121, ..., -17.05496216,\n",
       "        -15.3568697 , -13.8002739 ],\n",
       "       ..., \n",
       "       [-14.58681679, -17.16007805, -15.86396408, ..., -15.94540024,\n",
       "        -18.79867744, -19.82165718],\n",
       "       [-15.04407501, -12.54522896, -12.723032  , ..., -16.30004692,\n",
       "        -15.35772324, -16.95752907],\n",
       "       [-14.08210182, -12.54522896, -11.44420624, ..., -15.68872547,\n",
       "        -15.60473347, -16.95752907]], dtype=float32)"
      ]
     },
     "execution_count": 25,
     "metadata": {},
     "output_type": "execute_result"
    }
   ],
   "source": [
    "x_band1[0,:,:]"
   ]
  },
  {
   "cell_type": "code",
   "execution_count": null,
   "metadata": {},
   "outputs": [],
   "source": []
  },
  {
   "cell_type": "code",
   "execution_count": 26,
   "metadata": {},
   "outputs": [
    {
     "data": {
      "text/plain": [
       "array([[-15.86325073, -15.20107746, -17.88773537, ..., -14.14651394,\n",
       "        -12.89877796, -14.00627327],\n",
       "       [-16.39520645, -15.20107746, -16.3950634 , ..., -15.43849754,\n",
       "        -14.00634575, -13.73268032],\n",
       "       [-15.44356155, -14.36598206, -17.05988121, ..., -17.05496216,\n",
       "        -15.3568697 , -13.8002739 ],\n",
       "       ..., \n",
       "       [-14.58681679, -17.16007805, -15.86396408, ..., -15.94540024,\n",
       "        -18.79867744, -19.82165718],\n",
       "       [-15.04407501, -12.54522896, -12.723032  , ..., -16.30004692,\n",
       "        -15.35772324, -16.95752907],\n",
       "       [-14.08210182, -12.54522896, -11.44420624, ..., -15.68872547,\n",
       "        -15.60473347, -16.95752907]], dtype=float32)"
      ]
     },
     "execution_count": 26,
     "metadata": {},
     "output_type": "execute_result"
    }
   ],
   "source": [
    "x_band1[0]"
   ]
  }
 ],
 "metadata": {
  "kernelspec": {
   "display_name": "Python 2",
   "language": "python",
   "name": "python2"
  },
  "language_info": {
   "codemirror_mode": {
    "name": "ipython",
    "version": 2
   },
   "file_extension": ".py",
   "mimetype": "text/x-python",
   "name": "python",
   "nbconvert_exporter": "python",
   "pygments_lexer": "ipython2",
   "version": "2.7.6"
  }
 },
 "nbformat": 4,
 "nbformat_minor": 2
}
